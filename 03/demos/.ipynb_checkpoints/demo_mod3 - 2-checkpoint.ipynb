{
 "cells": [
  {
   "cell_type": "markdown",
   "metadata": {},
   "source": [
    "## Navigating a WebPage with Selenium and Python"
   ]
  },
  {
   "cell_type": "markdown",
   "metadata": {},
   "source": [
    "## 1. Dealing with forms and dropdown menus"
   ]
  },
  {
   "cell_type": "code",
   "execution_count": 78,
   "metadata": {},
   "outputs": [],
   "source": [
    "# importing required packages\n",
    "from selenium import webdriver\n",
    "from selenium.webdriver.common.keys import Keys\n",
    "from selenium.webdriver.chrome.options import Options\n",
    "from selenium.webdriver.support.ui import WebDriverWait\n",
    "from selenium.webdriver.support import expected_conditions as EC\n",
    "from selenium.webdriver.common.by import By\n",
    "from selenium.webdriver.common.keys import Keys\n",
    "\n",
    "import time"
   ]
  },
  {
   "cell_type": "code",
   "execution_count": 79,
   "metadata": {},
   "outputs": [],
   "source": [
    "# adding options on chrome\n",
    "chromeOptions = webdriver.ChromeOptions()\n",
    "prefs = {\"profile.default_content_setting_values.notifications\" : 2}\n",
    "chromeOptions.add_experimental_option(\"prefs\",prefs)\n",
    "chromeOptions.add_argument(\"--kiosk\")"
   ]
  },
  {
   "cell_type": "markdown",
   "metadata": {},
   "source": [
    "#### 1. a. Locating the elements in the form"
   ]
  },
  {
   "cell_type": "markdown",
   "metadata": {},
   "source": [
    "#### 1. b. Dropdown menu, checkbox & submit"
   ]
  },
  {
   "cell_type": "code",
   "execution_count": 80,
   "metadata": {},
   "outputs": [],
   "source": [
    "driver = webdriver.Chrome(options=chromeOptions) \n",
    "driver.get(\"https://www.pluralsight.com/buy?requestId=0eb00df8-15a9-43d9-8d63-5f064e321d85&priceOptionId=d869df2c-4c72-461f-886b-4014548a2c1a&legacyTrackingId=IND-M-PLUS-FT&time=1613907505321&planId=Individual+plan&quantity=1&analyticsStep=1\")\n",
    "\n",
    "# web driver wait\n",
    "element = WebDriverWait(driver, 10).until(\n",
    "    EC.element_to_be_clickable((By.NAME, \"firstName\")))\n",
    "\n",
    "\n",
    "# first name\n",
    "first_name = driver.find_element_by_name(\"firstName\")\n",
    "first_name.clear()\n",
    "first_name.send_keys(\"John\")\n",
    "\n",
    "# last name\n",
    "last_name = driver.find_element_by_name(\"lastName\")\n",
    "last_name.clear()\n",
    "last_name.send_keys(\"Doe\")\n",
    "\n",
    "# email\n",
    "email = driver.find_element_by_name(\"email\")\n",
    "email.clear()\n",
    "email.send_keys(\"john_is_a_doe_6483@gmail.com\")\n",
    "\n",
    "# confirmation email\n",
    "conf_email = driver.find_element_by_name(\"confirmEmail\")\n",
    "conf_email.clear()\n",
    "conf_email.send_keys(\"john_is_a_doe_6483@gmail.com\")"
   ]
  },
  {
   "cell_type": "code",
   "execution_count": null,
   "metadata": {},
   "outputs": [],
   "source": [
    "# country of residence\n",
    "time.sleep(2)\n",
    "country_element = driver.find_element_by_xpath(\"//select[@data-test='country']\")\n",
    "all_options = country_element.find_elements_by_tag_name(\"option\")\n",
    "\n",
    "for option in all_options:\n",
    "    if option.get_attribute(\"value\") == \"US\":\n",
    "        option.click()\n",
    "\n",
    "# Company Name\n",
    "company_name = driver.find_element_by_xpath(\"//input[@data-testid='companyName']\")\n",
    "company_name.clear()\n",
    "company_name.send_keys(\"Space Corp\")\n",
    "company_name.send_keys(Keys.RETURN);\n",
    "\n",
    "\n",
    "# checkboxes\n",
    "time.sleep(1)\n",
    "checkbox_agree = driver.find_element_by_xpath(\"//input[@type='checkbox']/following-sibling::div\")  \n",
    "checkbox_agree.click()\n",
    "\n",
    "# submit button\n",
    "submit_ele = driver.find_element_by_xpath(\"//button[@data-test='submitButton']\")\n",
    "time.sleep(2)\n",
    "submit_ele.click()\n",
    "\n",
    "\n",
    "time.sleep(4)\n",
    "\n",
    "# Payment Form Visible\n",
    "element = driver.find_element_by_xpath(\"//h2[text()='Payment']\")\n",
    "if element.is_displayed():\n",
    "  print (\"Payment Form in focus\")\n",
    "else:\n",
    "  print (\"Payment Form not displayed. Check previous form validation state\")\n"
   ]
  },
  {
   "cell_type": "code",
   "execution_count": null,
   "metadata": {},
   "outputs": [],
   "source": [
    "driver.quit()"
   ]
  },
  {
   "cell_type": "markdown",
   "metadata": {},
   "source": [
    "## 2. Handling iFrames"
   ]
  },
  {
   "cell_type": "code",
   "execution_count": null,
   "metadata": {},
   "outputs": [],
   "source": [
    "# switch to iframe by name\n",
    "driver.switch_to.frame(\"frameName\")\n",
    "\n",
    "# switch to parent frame\n",
    "driver.switch_to_default_content()"
   ]
  },
  {
   "cell_type": "markdown",
   "metadata": {},
   "source": [
    "## 3. Handling popups"
   ]
  },
  {
   "cell_type": "code",
   "execution_count": null,
   "metadata": {},
   "outputs": [],
   "source": [
    "popup = driver.switch_to_alert()\n",
    "\n",
    "\n",
    "try:\n",
    "    WebDriverWait(browser, 3).until(EC.alert_is_present(),\n",
    "                                   'Timed out waiting for Pop Uo creation ' +\n",
    "                                   'confirmation popup to appear.')\n",
    "popup.accept()\n",
    "    print(\"popup accepted\")\n",
    "except TimeoutException:\n",
    "    print(\"no popup\")"
   ]
  },
  {
   "cell_type": "code",
   "execution_count": null,
   "metadata": {},
   "outputs": [],
   "source": []
  },
  {
   "cell_type": "code",
   "execution_count": null,
   "metadata": {},
   "outputs": [],
   "source": []
  },
  {
   "cell_type": "code",
   "execution_count": null,
   "metadata": {},
   "outputs": [],
   "source": []
  }
 ],
 "metadata": {
  "kernelspec": {
   "display_name": "Python 3",
   "language": "python",
   "name": "python3"
  },
  "language_info": {
   "codemirror_mode": {
    "name": "ipython",
    "version": 3
   },
   "file_extension": ".py",
   "mimetype": "text/x-python",
   "name": "python",
   "nbconvert_exporter": "python",
   "pygments_lexer": "ipython3",
   "version": "3.8.5"
  }
 },
 "nbformat": 4,
 "nbformat_minor": 2
}
