{
 "cells": [
  {
   "cell_type": "markdown",
   "metadata": {},
   "source": [
    "# Extracting information from a dynamic webpage"
   ]
  },
  {
   "cell_type": "markdown",
   "metadata": {},
   "source": [
    "### Navigation"
   ]
  },
  {
   "cell_type": "code",
   "execution_count": 133,
   "metadata": {},
   "outputs": [],
   "source": [
    "# importing required packages\n",
    "from selenium import webdriver\n",
    "from selenium.webdriver.common.keys import Keys\n",
    "from selenium.webdriver.chrome.options import Options\n",
    "from selenium.webdriver.support.ui import WebDriverWait\n",
    "from selenium.webdriver.support import expected_conditions as EC\n",
    "from selenium.webdriver.common.by import By\n",
    "import time"
   ]
  },
  {
   "cell_type": "code",
   "execution_count": 134,
   "metadata": {},
   "outputs": [],
   "source": [
    "# adding options on chrome\n",
    "chromeOptions = Options()\n",
    "\n",
    "#prefs = {\"profile.managed_default_content_settings.images\": 2}\n",
    "#chromeOptions.add_experimental_option(\"prefs\", prefs)\n",
    "\n",
    "chromeOptions.add_argument(\"--kiosk\")"
   ]
  },
  {
   "cell_type": "code",
   "execution_count": 135,
   "metadata": {
    "scrolled": true
   },
   "outputs": [],
   "source": [
    "# navigating to the premier league site\n",
    "\n",
    "driver = webdriver.Chrome(options=chromeOptions)\n",
    "driver.get(\"https://www.premierleague.com/\")\n",
    "\n",
    "driver.implicitly_wait(5)\n",
    "\n",
    "\n",
    "# accept cookies \n",
    "cookies_ele = driver.find_elements_by_class_name(\"js-cookies-notice\")\n",
    "cookies_accept_ele = driver.find_element_by_xpath(\"//div[contains(@class,'cookies-notice-accept')]\"); \n",
    "cookies_accept_ele.send_keys(\"\\n\")\n",
    "\n",
    "# close advert popup\n",
    "advert_element = WebDriverWait(driver, 5).until(\n",
    "    EC.element_to_be_clickable((By.ID, \"advertClose\")))\n",
    "\n",
    "advert_element.click();\n",
    "\n",
    "    \n",
    "# clicking on the players tab\n",
    "players_ele = driver.find_element_by_link_text(\"Players\").click()\n",
    "\n",
    "# scroll up to search bar\n",
    "driver.execute_script(\"scrollBy(0,+1000);\")\n",
    "\n",
    "\n",
    "# searching for wayne rooney\n",
    "# web driver wait\n",
    "element = WebDriverWait(driver, 15).until(\n",
    "    EC.element_to_be_clickable((By.ID, \"search-input\")))\n",
    "\n",
    "search_ele = driver.find_element_by_id(\"search-input\")\n",
    "search_ele.send_keys(\"Wayne Rooney\")\n",
    "\n",
    "# close advert popup\n",
    "advert_element_2 = WebDriverWait(driver, 5).until(\n",
    "    EC.element_to_be_clickable((By.ID, \"advertClose\")))\n",
    "\n",
    "advert_element_2.click();\n",
    "\n",
    "# find search button and click search after pop up closes\n",
    "search_btn_ele = driver.find_element_by_xpath(\"//div[contains(@class,'searchCommit')]\"); \n",
    "search_btn_ele.click();\n",
    "\n",
    "\n",
    "# clicking on wayne rooney\n",
    "driver.implicitly_wait(5)\n",
    "click_wayne = driver.find_element_by_xpath(\"//img[@data-player='p13017']\").click()"
   ]
  },
  {
   "cell_type": "code",
   "execution_count": null,
   "metadata": {},
   "outputs": [],
   "source": [
    "page_source_overview = driver.page_source"
   ]
  },
  {
   "cell_type": "markdown",
   "metadata": {},
   "source": [
    "### Beautiful Soup"
   ]
  },
  {
   "cell_type": "code",
   "execution_count": null,
   "metadata": {},
   "outputs": [],
   "source": [
    "from bs4 import BeautifulSoup"
   ]
  },
  {
   "cell_type": "code",
   "execution_count": null,
   "metadata": {},
   "outputs": [],
   "source": [
    "# loading page source info\n",
    "soup = BeautifulSoup(page_source_overview, 'lxml')"
   ]
  },
  {
   "cell_type": "code",
   "execution_count": null,
   "metadata": {},
   "outputs": [],
   "source": [
    "# locating the titles\n",
    "title_finder = soup.find_all(\"span\", class_=\"title\")"
   ]
  },
  {
   "cell_type": "code",
   "execution_count": null,
   "metadata": {},
   "outputs": [],
   "source": [
    "title_finder"
   ]
  },
  {
   "cell_type": "code",
   "execution_count": null,
   "metadata": {},
   "outputs": [],
   "source": [
    "print(10*\"-\" + \"These are the latest news headlines about Wayne Rooney\" + 10*\"-\" + \"\\n\")\n",
    "for title in title_finder:\n",
    "    print(title.string)"
   ]
  },
  {
   "cell_type": "code",
   "execution_count": null,
   "metadata": {},
   "outputs": [],
   "source": [
    "# stats button element\n",
    "time.sleep(1)\n",
    "wayne_stats = driver.find_element_by_xpath(\"//a[@href='stats']\").click()"
   ]
  },
  {
   "cell_type": "code",
   "execution_count": null,
   "metadata": {},
   "outputs": [],
   "source": [
    "page_source_stats = driver.page_source"
   ]
  },
  {
   "cell_type": "code",
   "execution_count": null,
   "metadata": {},
   "outputs": [],
   "source": [
    "soup = BeautifulSoup(page_source_stats, \"lxml\")"
   ]
  },
  {
   "cell_type": "code",
   "execution_count": null,
   "metadata": {},
   "outputs": [],
   "source": [
    "# locating all the stats\n",
    "stat_finder = soup.find_all(\"span\", class_=\"allStatContainer\")"
   ]
  },
  {
   "cell_type": "code",
   "execution_count": null,
   "metadata": {
    "scrolled": true
   },
   "outputs": [],
   "source": [
    "print(stat_finder)"
   ]
  },
  {
   "cell_type": "code",
   "execution_count": null,
   "metadata": {
    "scrolled": true
   },
   "outputs": [],
   "source": [
    "print(10*\"-\" + \"Wayne Rooney Stats\" + 10*\"-\" + \"\\n\")\n",
    "for stat in stat_finder:\n",
    "    print(stat[\"data-stat\"] +  \" - \" + stat.string)"
   ]
  },
  {
   "cell_type": "code",
   "execution_count": null,
   "metadata": {},
   "outputs": [],
   "source": [
    "driver.quit();"
   ]
  }
 ],
 "metadata": {
  "kernelspec": {
   "display_name": "Python 3",
   "language": "python",
   "name": "python3"
  },
  "language_info": {
   "codemirror_mode": {
    "name": "ipython",
    "version": 3
   },
   "file_extension": ".py",
   "mimetype": "text/x-python",
   "name": "python",
   "nbconvert_exporter": "python",
   "pygments_lexer": "ipython3",
   "version": "3.8.5"
  }
 },
 "nbformat": 4,
 "nbformat_minor": 2
}
